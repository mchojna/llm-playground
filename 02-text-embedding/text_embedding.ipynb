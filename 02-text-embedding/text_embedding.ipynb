{
 "cells": [
  {
   "cell_type": "markdown",
   "id": "855cd1fd",
   "metadata": {},
   "source": [
    "# Text Embedding"
   ]
  },
  {
   "cell_type": "markdown",
   "id": "327b243c",
   "metadata": {},
   "source": [
    "Resource: https://www.deeplearning.ai/short-courses/google-cloud-vertex-ai/"
   ]
  },
  {
   "cell_type": "code",
   "execution_count": null,
   "id": "12910b5f",
   "metadata": {},
   "outputs": [],
   "source": [
    "import warnings\n",
    "\n",
    "warnings.filterwarnings('ignore')"
   ]
  }
 ],
 "metadata": {
  "language_info": {
   "name": "python"
  }
 },
 "nbformat": 4,
 "nbformat_minor": 5
}
