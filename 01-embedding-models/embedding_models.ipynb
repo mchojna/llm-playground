{
 "cells": [
  {
   "cell_type": "markdown",
   "id": "6290ef6f",
   "metadata": {},
   "source": [
    "# Embedding Models"
   ]
  },
  {
   "cell_type": "markdown",
   "id": "e47143a9",
   "metadata": {},
   "source": [
    "Resource: https://www.deeplearning.ai/short-courses/embedding-models-from-architecture-to-implementation/"
   ]
  },
  {
   "cell_type": "markdown",
   "id": "00a2a2b8",
   "metadata": {},
   "source": [
    "### Get embeddings"
   ]
  },
  {
   "cell_type": "code",
   "execution_count": 41,
   "id": "4f03b55d",
   "metadata": {},
   "outputs": [],
   "source": [
    "import gensim.downloader as api\n",
    "\n",
    "word_vectors = api.load(\"glove-wiki-gigaword-100\")"
   ]
  },
  {
   "cell_type": "markdown",
   "id": "d2dedeed",
   "metadata": {},
   "source": [
    "### Check embeddings"
   ]
  },
  {
   "cell_type": "code",
   "execution_count": 42,
   "id": "76d92037",
   "metadata": {},
   "outputs": [
    {
     "data": {
      "text/plain": [
       "(100,)"
      ]
     },
     "execution_count": 42,
     "metadata": {},
     "output_type": "execute_result"
    }
   ],
   "source": [
    "word_vectors[\"king\"].shape"
   ]
  },
  {
   "cell_type": "code",
   "execution_count": 43,
   "id": "4c7367c9",
   "metadata": {},
   "outputs": [
    {
     "data": {
      "text/plain": [
       "array([-0.32307 , -0.87616 ,  0.21977 ,  0.25268 ,  0.22976 ,  0.7388  ,\n",
       "       -0.37954 , -0.35307 , -0.84369 , -1.1113  , -0.30266 ,  0.33178 ,\n",
       "       -0.25113 ,  0.30448 , -0.077491, -0.89815 ,  0.092496, -1.1407  ,\n",
       "       -0.58324 ,  0.66869 ], dtype=float32)"
      ]
     },
     "execution_count": 43,
     "metadata": {},
     "output_type": "execute_result"
    }
   ],
   "source": [
    "word_vectors[\"king\"][:20]"
   ]
  },
  {
   "cell_type": "markdown",
   "id": "df11b64a",
   "metadata": {},
   "source": [
    "### Visualize words"
   ]
  },
  {
   "cell_type": "code",
   "execution_count": 44,
   "id": "a32c7b57",
   "metadata": {},
   "outputs": [],
   "source": [
    "import numpy as np\n",
    "\n",
    "# Words to visualize\n",
    "words = [\"king\", \"princess\", \"monarch\", \"throne\", \"crown\", \"mountain\", \"ocean\", \"tv\", \"rainbow\", \"cloud\", \"queen\"]\n",
    "\n",
    "# Get word vectors\n",
    "vectors = np.array([word_vectors[word] for word in words])"
   ]
  },
  {
   "cell_type": "code",
   "execution_count": 45,
   "id": "ba3186ff",
   "metadata": {},
   "outputs": [],
   "source": [
    "from sklearn.decomposition import PCA\n",
    "\n",
    "# Reduce dimensions\n",
    "pca = PCA(n_components=2)\n",
    "vectors_pca = pca.fit_transform(vectors)"
   ]
  },
  {
   "cell_type": "code",
   "execution_count": 46,
   "id": "77df170c",
   "metadata": {},
   "outputs": [
    {
     "data": {
      "image/png": "[encoded data removed]",
      "text/plain": [
       "<Figure size 500x500 with 1 Axes>"
      ]
     },
     "metadata": {},
     "output_type": "display_data"
    }
   ],
   "source": [
    "import matplotlib.pyplot as plt\n",
    "\n",
    "# Plot\n",
    "fig, axes = plt.subplots(1, 1, figsize=(5, 5))\n",
    "axes.scatter(vectors_pca[:, 0], vectors_pca[:, 1])\n",
    "for i, word in enumerate(words):\n",
    "    axes.annotate(word, (vectors_pca[i, 0] + 0.02, vectors_pca[i, 1] + 0.02))\n",
    "axes.set_title(\"PCA of Word Embeddings\")\n",
    "plt.show()"
   ]
  },
  {
   "cell_type": "markdown",
   "id": "70ee370a",
   "metadata": {},
   "source": [
    "### Embeddings operations"
   ]
  },
  {
   "cell_type": "code",
   "execution_count": 47,
   "id": "893a9ed9",
   "metadata": {},
   "outputs": [
    {
     "name": "stdout",
     "output_type": "stream",
     "text": [
      "The word closest to 'king' - 'man' + 'woman' is: 'queen' with a similarity score of 0.7698541283607483\n"
     ]
    }
   ],
   "source": [
    "result = word_vectors.most_similar(\n",
    "    positive=[\"king\", \"woman\"],\n",
    "    negative=[\"man\"],\n",
    "    topn=1\n",
    ")\n",
    "\n",
    "print(f\"The word closest to 'king' - 'man' + 'woman' is: '{result[0][0]}' with a similarity score of {result[0][1]}\"\"\")"
   ]
  },
  {
   "cell_type": "markdown",
   "id": "153c1aa4",
   "metadata": {},
   "source": [
    "### Compare GloVe and BERT"
   ]
  },
  {
   "cell_type": "code",
   "execution_count": 48,
   "id": "f472cc68",
   "metadata": {},
   "outputs": [],
   "source": [
    "from transformers import BertTokenizer, BertModel\n",
    "\n",
    "tokenizer = BertTokenizer.from_pretrained(\"google-bert/bert-base-uncased\")\n",
    "model = BertModel.from_pretrained(\"google-bert/bert-base-uncased\")  "
   ]
  },
  {
   "cell_type": "code",
   "execution_count": 49,
   "id": "f868eae0",
   "metadata": {},
   "outputs": [],
   "source": [
    "# Get BERT embeddings\n",
    "def get_bert_embeddings(sentence, word):\n",
    "    inputs = tokenizer(sentence, return_tensors=\"pt\")\n",
    "    outputs = model(**inputs)\n",
    "    \n",
    "    last_hidden_state = outputs.last_hidden_state\n",
    "    \n",
    "    word_tokens = tokenizer.tokenize(sentence)\n",
    "    word_index = word_tokens.index(word)\n",
    "    word_embedding = last_hidden_state[0, word_index + 1, :]\n",
    "    \n",
    "    return word_embedding"
   ]
  },
  {
   "cell_type": "code",
   "execution_count": 50,
   "id": "0ef50999",
   "metadata": {},
   "outputs": [
    {
     "name": "stderr",
     "output_type": "stream",
     "text": [
      "/Users/mchojna/Documents/GitHub/llm-playground/.venv/lib/python3.11/site-packages/torch/nn/modules/module.py:1762: FutureWarning: `encoder_attention_mask` is deprecated and will be removed in version 4.55.0 for `BertSdpaSelfAttention.forward`.\n",
      "  return forward_call(*args, **kwargs)\n"
     ]
    }
   ],
   "source": [
    "sentence_1 = \"The bat flew out of the cave at night.\"\n",
    "sentence_2 = \"He swung the bat and hit a home run.\"\n",
    "\n",
    "word = \"bat\"\n",
    "\n",
    "bert_embedding_1 = get_bert_embeddings(sentence_1, word)\n",
    "bert_embedding_2 = get_bert_embeddings(sentence_2, word)\n",
    "word_embedding = word_vectors[word]"
   ]
  },
  {
   "cell_type": "code",
   "execution_count": 51,
   "id": "01ac1170",
   "metadata": {},
   "outputs": [
    {
     "name": "stdout",
     "output_type": "stream",
     "text": [
      "BERT embedding for 'bat' in sentence 1: tensor([ 0.4132, -0.1291, -0.4487, -0.4049, -0.1531], grad_fn=<SliceBackward0>)\n",
      "BERT embedding for 'bat' in sentence 2: tensor([ 0.6407, -0.3112, -0.4409, -0.1655, -0.2006], grad_fn=<SliceBackward0>)\n"
     ]
    }
   ],
   "source": [
    "print(f\"BERT embedding for 'bat' in sentence 1: {bert_embedding_1[:5]}\")\n",
    "print(f\"BERT embedding for 'bat' in sentence 2: {bert_embedding_2[:5]}\")"
   ]
  },
  {
   "cell_type": "code",
   "execution_count": 52,
   "id": "bf27cb02",
   "metadata": {},
   "outputs": [
    {
     "name": "stdout",
     "output_type": "stream",
     "text": [
      "Cosine similarity between BERT embeddings in different contextes: 0.4599575698375702\n",
      "Cosine similarity between GloVe embeddings: 1.0\n"
     ]
    }
   ],
   "source": [
    "from sklearn.metrics.pairwise import cosine_similarity\n",
    "\n",
    "bert_similarity = cosine_similarity(\n",
    "    [bert_embedding_1.detach().numpy()], \n",
    "    [bert_embedding_2.detach().numpy()]\n",
    ")[0][0]\n",
    "\n",
    "glove_similarity = cosine_similarity(\n",
    "    [word_embedding],\n",
    "    [word_embedding]\n",
    ")[0][0]\n",
    "\n",
    "print(f\"Cosine similarity between BERT embeddings in different contextes: {bert_similarity}\")\n",
    "print(f\"Cosine similarity between GloVe embeddings: {glove_similarity}\")"
   ]
  },
  {
   "cell_type": "markdown",
   "id": "54cd5d97",
   "metadata": {},
   "source": [
    "### Cross Encoder"
   ]
  },
  {
   "cell_type": "code",
   "execution_count": 53,
   "id": "0f1dbe36",
   "metadata": {},
   "outputs": [],
   "source": [
    "from sentence_transformers import CrossEncoder\n",
    "import torch\n",
    "\n",
    "model = CrossEncoder(\n",
    "    model_name_or_path=\"cross-encoder/ms-marco-MiniLM-L-6-v2\", \n",
    "    max_length=512, \n",
    "    activation_fn=torch.nn.Sigmoid()\n",
    ")"
   ]
  },
  {
   "cell_type": "code",
   "execution_count": 54,
   "id": "b8cb7470",
   "metadata": {},
   "outputs": [],
   "source": [
    "question = \"Where ist the capitla of Germany\"\n",
    "answers = [\n",
    "    \"Paris is the capital of France.\",\n",
    "    \"Berlin is the capital of Germany.\",\n",
    "    \"Madrid is the capital of Spain.\"\n",
    "]"
   ]
  },
  {
   "cell_type": "code",
   "execution_count": 55,
   "id": "b1f7cb35",
   "metadata": {},
   "outputs": [
    {
     "name": "stdout",
     "output_type": "stream",
     "text": [
      "[1.4046593e-05 1.6110415e-03 1.3391236e-05]\n"
     ]
    },
    {
     "name": "stderr",
     "output_type": "stream",
     "text": [
      "/Users/mchojna/Documents/GitHub/llm-playground/.venv/lib/python3.11/site-packages/torch/nn/modules/module.py:1762: FutureWarning: `encoder_attention_mask` is deprecated and will be removed in version 4.55.0 for `BertSdpaSelfAttention.forward`.\n",
      "  return forward_call(*args, **kwargs)\n"
     ]
    }
   ],
   "source": [
    "scores = model.predict(\n",
    "    [\n",
    "        (question, answers[0]),\n",
    "        (question, answers[1]),\n",
    "        (question, answers[2])\n",
    "    ]\n",
    ")\n",
    "print(scores)"
   ]
  },
  {
   "cell_type": "code",
   "execution_count": 56,
   "id": "c6a71e5a",
   "metadata": {},
   "outputs": [
    {
     "name": "stdout",
     "output_type": "stream",
     "text": [
      "The most relevant answer is: 'Berlin is the capital of Germany.'\n"
     ]
    }
   ],
   "source": [
    "most_relevant_idx = torch.argmax(torch.tensor(scores)).item()\n",
    "print(f\"The most relevant answer is: '{answers[most_relevant_idx]}'\")"
   ]
  },
  {
   "cell_type": "markdown",
   "id": "62d8f4ff",
   "metadata": {},
   "source": [
    "### Token embeddings"
   ]
  },
  {
   "cell_type": "code",
   "execution_count": 71,
   "id": "69473ffb",
   "metadata": {},
   "outputs": [],
   "source": [
    "from transformers import BertTokenizer, BertModel\n",
    "\n",
    "tokenizer = BertTokenizer.from_pretrained(\"google-bert/bert-base-uncased\")\n",
    "model = BertModel.from_pretrained(\"google-bert/bert-base-uncased\")"
   ]
  },
  {
   "cell_type": "code",
   "execution_count": 61,
   "id": "d8885d97",
   "metadata": {},
   "outputs": [],
   "source": [
    "def get_sentence_embedding(sentence):\n",
    "    encoded_input = tokenizer(sentence, padding=True, return_tensors=\"pt\")\n",
    "    attention_mask = encoded_input[\"attention_mask\"]\n",
    "    \n",
    "    with torch.inference_mode():\n",
    "        output = model(**encoded_input)\n",
    "        \n",
    "    token_embeddings = output.last_hidden_state\n",
    "    input_mask_expanded = attention_mask.unsqueeze(dim=-1).expand(token_embeddings.size()).float()\n",
    "    \n",
    "    sentence_embedding = torch.sum(token_embeddings * input_mask_expanded, 1) / torch.clamp(input_mask_expanded.sum(1), min=1e-9)\n",
    "    \n",
    "    return sentence_embedding.flatten().tolist()"
   ]
  },
  {
   "cell_type": "code",
   "execution_count": 72,
   "id": "7a254581",
   "metadata": {},
   "outputs": [],
   "source": [
    "def cosine_similarity_matrix(featuers):\n",
    "    norms = np.linalg.norm(\n",
    "        featuers,\n",
    "        axis=1,\n",
    "        keepdims=True,\n",
    "    )\n",
    "    normalized_featuers = featuers / norms\n",
    "    \n",
    "    similarity_matrix = np.inner(normalized_featuers, normalized_featuers)    \n",
    "    rounded_similarity_matrix = np.round(similarity_matrix, 4)\n",
    "    \n",
    "    return rounded_similarity_matrix"
   ]
  },
  {
   "cell_type": "code",
   "execution_count": 73,
   "id": "300c60c8",
   "metadata": {},
   "outputs": [],
   "source": [
    "import seaborn as sns\n",
    "\n",
    "def plot_similarity(labels, features, rotation):\n",
    "    sim = cosine_similarity_matrix(features)\n",
    "    sns.set_theme(font_scale=1.2)\n",
    "    g = sns.heatmap(\n",
    "        sim, \n",
    "        xticklabels=labels, \n",
    "        yticklabels=labels, \n",
    "        vmin=0, \n",
    "        vmax=1, \n",
    "        cmap=\"YlOrRd\"\n",
    "    )\n",
    "    g.set_xticklabels(labels, rotation=rotation)\n",
    "    g.set_title(\"Semantic Textual Similairyt\")\n",
    "    return g"
   ]
  },
  {
   "cell_type": "code",
   "execution_count": 74,
   "id": "bff79617",
   "metadata": {},
   "outputs": [
    {
     "name": "stderr",
     "output_type": "stream",
     "text": [
      "/Users/mchojna/Documents/GitHub/llm-playground/.venv/lib/python3.11/site-packages/torch/nn/modules/module.py:1762: FutureWarning: `encoder_attention_mask` is deprecated and will be removed in version 4.55.0 for `BertSdpaSelfAttention.forward`.\n",
      "  return forward_call(*args, **kwargs)\n"
     ]
    },
    {
     "data": {
      "text/plain": [
       "<Axes: title={'center': 'Semantic Textual Similairyt'}>"
      ]
     },
     "execution_count": 74,
     "metadata": {},
     "output_type": "execute_result"
    },
    {
     "data": {
      "image/png": "[encoded data removed]",
      "text/plain": [
       "<Figure size 640x480 with 2 Axes>"
      ]
     },
     "metadata": {},
     "output_type": "display_data"
    }
   ],
   "source": [
    "messages = [\n",
    "    \"I like my phone\",\n",
    "    \"My phone is not good.\",\n",
    "    \"Your cellphone looks great.\",\n",
    "\n",
    "    \"Will it snow tomorrow?\",\n",
    "    \"Recently a lot of hurricanes have hit the US\",\n",
    "    \"Global warming is real\",\n",
    "\n",
    "    \"An apple a day, keeps the doctors away\",\n",
    "    \"Eating strawberries is healthy\",\n",
    "    \"Is paleo better than keto?\",\n",
    "\n",
    "    \"How old are you?\",\n",
    "    \"what is your age?\",\n",
    "]\n",
    "\n",
    "embeddings = [\n",
    "    get_sentence_embedding(t) for t in messages\n",
    "]\n",
    "\n",
    "plot_similarity(messages, embeddings, 90)"
   ]
  },
  {
   "cell_type": "code",
   "execution_count": 77,
   "id": "98491257",
   "metadata": {},
   "outputs": [
    {
     "data": {
      "text/html": [
       "<div>\n",
       "<style scoped>\n",
       "    .dataframe tbody tr th:only-of-type {\n",
       "        vertical-align: middle;\n",
       "    }\n",
       "\n",
       "    .dataframe tbody tr th {\n",
       "        vertical-align: top;\n",
       "    }\n",
       "\n",
       "    .dataframe thead th {\n",
       "        text-align: right;\n",
       "    }\n",
       "</style>\n",
       "<table border=\"1\" class=\"dataframe\">\n",
       "  <thead>\n",
       "    <tr style=\"text-align: right;\">\n",
       "      <th></th>\n",
       "      <th>sentence_1</th>\n",
       "      <th>sentence_2</th>\n",
       "      <th>score</th>\n",
       "    </tr>\n",
       "  </thead>\n",
       "  <tbody>\n",
       "    <tr>\n",
       "      <th>0</th>\n",
       "      <td>A girl is styling her hair.</td>\n",
       "      <td>A girl is brushing her hair.</td>\n",
       "      <td>0.5000</td>\n",
       "    </tr>\n",
       "    <tr>\n",
       "      <th>1</th>\n",
       "      <td>A group of men play soccer on the beach.</td>\n",
       "      <td>A group of boys are playing soccer on the beach.</td>\n",
       "      <td>0.7200</td>\n",
       "    </tr>\n",
       "    <tr>\n",
       "      <th>2</th>\n",
       "      <td>One woman is measuring another woman's ankle.</td>\n",
       "      <td>A woman measures another woman's ankle.</td>\n",
       "      <td>1.0000</td>\n",
       "    </tr>\n",
       "    <tr>\n",
       "      <th>3</th>\n",
       "      <td>A man is cutting up a cucumber.</td>\n",
       "      <td>A man is slicing a cucumber.</td>\n",
       "      <td>0.8400</td>\n",
       "    </tr>\n",
       "    <tr>\n",
       "      <th>4</th>\n",
       "      <td>A man is playing a harp.</td>\n",
       "      <td>A man is playing a keyboard.</td>\n",
       "      <td>0.3000</td>\n",
       "    </tr>\n",
       "    <tr>\n",
       "      <th>5</th>\n",
       "      <td>A woman is cutting onions.</td>\n",
       "      <td>A woman is cutting tofu.</td>\n",
       "      <td>0.3600</td>\n",
       "    </tr>\n",
       "    <tr>\n",
       "      <th>6</th>\n",
       "      <td>A man is riding an electric bicycle.</td>\n",
       "      <td>A man is riding a bicycle.</td>\n",
       "      <td>0.7000</td>\n",
       "    </tr>\n",
       "    <tr>\n",
       "      <th>7</th>\n",
       "      <td>A man is playing the drums.</td>\n",
       "      <td>A man is playing the guitar.</td>\n",
       "      <td>0.4400</td>\n",
       "    </tr>\n",
       "    <tr>\n",
       "      <th>8</th>\n",
       "      <td>A man is playing guitar.</td>\n",
       "      <td>A lady is playing the guitar.</td>\n",
       "      <td>0.4400</td>\n",
       "    </tr>\n",
       "    <tr>\n",
       "      <th>9</th>\n",
       "      <td>A man is playing a guitar.</td>\n",
       "      <td>A man is playing a trumpet.</td>\n",
       "      <td>0.3428</td>\n",
       "    </tr>\n",
       "  </tbody>\n",
       "</table>\n",
       "</div>"
      ],
      "text/plain": [
       "                                      sentence_1  \\\n",
       "0                    A girl is styling her hair.   \n",
       "1       A group of men play soccer on the beach.   \n",
       "2  One woman is measuring another woman's ankle.   \n",
       "3                A man is cutting up a cucumber.   \n",
       "4                       A man is playing a harp.   \n",
       "5                     A woman is cutting onions.   \n",
       "6           A man is riding an electric bicycle.   \n",
       "7                    A man is playing the drums.   \n",
       "8                       A man is playing guitar.   \n",
       "9                     A man is playing a guitar.   \n",
       "\n",
       "                                         sentence_2   score  \n",
       "0                      A girl is brushing her hair.  0.5000  \n",
       "1  A group of boys are playing soccer on the beach.  0.7200  \n",
       "2           A woman measures another woman's ankle.  1.0000  \n",
       "3                      A man is slicing a cucumber.  0.8400  \n",
       "4                      A man is playing a keyboard.  0.3000  \n",
       "5                          A woman is cutting tofu.  0.3600  \n",
       "6                        A man is riding a bicycle.  0.7000  \n",
       "7                      A man is playing the guitar.  0.4400  \n",
       "8                     A lady is playing the guitar.  0.4400  \n",
       "9                       A man is playing a trumpet.  0.3428  "
      ]
     },
     "execution_count": 77,
     "metadata": {},
     "output_type": "execute_result"
    }
   ],
   "source": [
    "from datasets import load_dataset\n",
    "import pandas as pd\n",
    "\n",
    "sts_dataset = load_dataset(\"mteb/stsbenchmark-sts\")\n",
    "sts = pd.DataFrame({\n",
    "    'sentence_1': sts_dataset['test']['sentence1'], \n",
    "    'sentence_2': sts_dataset['test']['sentence2'],\n",
    "    'score': [x/5 for x in sts_dataset['test']['score']]\n",
    "})\n",
    "sts.head(10)"
   ]
  },
  {
   "cell_type": "code",
   "execution_count": 78,
   "id": "8a7cb234",
   "metadata": {},
   "outputs": [],
   "source": [
    "def sim_two_sentences(s1, s2):\n",
    "    emb1 = get_sentence_embedding(s1)\n",
    "    emb2 = get_sentence_embedding(s2)\n",
    "    sim = cosine_similarity_matrix(\n",
    "        np.vstack([emb1, emb2])\n",
    "    )\n",
    "    return sim[0, 1]"
   ]
  },
  {
   "cell_type": "code",
   "execution_count": 92,
   "id": "2820b474",
   "metadata": {},
   "outputs": [],
   "source": [
    "n_examples = 50\n",
    "sts = sts.head(n_examples)"
   ]
  },
  {
   "cell_type": "code",
   "execution_count": 93,
   "id": "f271a014",
   "metadata": {},
   "outputs": [
    {
     "name": "stderr",
     "output_type": "stream",
     "text": [
      "/Users/mchojna/Documents/GitHub/llm-playground/.venv/lib/python3.11/site-packages/torch/nn/modules/module.py:1762: FutureWarning: `encoder_attention_mask` is deprecated and will be removed in version 4.55.0 for `BertSdpaSelfAttention.forward`.\n",
      "  return forward_call(*args, **kwargs)\n"
     ]
    },
    {
     "data": {
      "text/html": [
       "<div>\n",
       "<style scoped>\n",
       "    .dataframe tbody tr th:only-of-type {\n",
       "        vertical-align: middle;\n",
       "    }\n",
       "\n",
       "    .dataframe tbody tr th {\n",
       "        vertical-align: top;\n",
       "    }\n",
       "\n",
       "    .dataframe thead th {\n",
       "        text-align: right;\n",
       "    }\n",
       "</style>\n",
       "<table border=\"1\" class=\"dataframe\">\n",
       "  <thead>\n",
       "    <tr style=\"text-align: right;\">\n",
       "      <th></th>\n",
       "      <th>sentence_1</th>\n",
       "      <th>sentence_2</th>\n",
       "      <th>score</th>\n",
       "      <th>avg_bert_score</th>\n",
       "      <th>mini_LM_score</th>\n",
       "    </tr>\n",
       "  </thead>\n",
       "  <tbody>\n",
       "    <tr>\n",
       "      <th>0</th>\n",
       "      <td>A girl is styling her hair.</td>\n",
       "      <td>A girl is brushing her hair.</td>\n",
       "      <td>0.5000</td>\n",
       "      <td>0.8052</td>\n",
       "      <td>0.8052</td>\n",
       "    </tr>\n",
       "    <tr>\n",
       "      <th>1</th>\n",
       "      <td>A group of men play soccer on the beach.</td>\n",
       "      <td>A group of boys are playing soccer on the beach.</td>\n",
       "      <td>0.7200</td>\n",
       "      <td>0.7886</td>\n",
       "      <td>0.7886</td>\n",
       "    </tr>\n",
       "    <tr>\n",
       "      <th>2</th>\n",
       "      <td>One woman is measuring another woman's ankle.</td>\n",
       "      <td>A woman measures another woman's ankle.</td>\n",
       "      <td>1.0000</td>\n",
       "      <td>0.9465</td>\n",
       "      <td>0.9465</td>\n",
       "    </tr>\n",
       "    <tr>\n",
       "      <th>3</th>\n",
       "      <td>A man is cutting up a cucumber.</td>\n",
       "      <td>A man is slicing a cucumber.</td>\n",
       "      <td>0.8400</td>\n",
       "      <td>0.8820</td>\n",
       "      <td>0.8820</td>\n",
       "    </tr>\n",
       "    <tr>\n",
       "      <th>4</th>\n",
       "      <td>A man is playing a harp.</td>\n",
       "      <td>A man is playing a keyboard.</td>\n",
       "      <td>0.3000</td>\n",
       "      <td>0.3556</td>\n",
       "      <td>0.3556</td>\n",
       "    </tr>\n",
       "    <tr>\n",
       "      <th>5</th>\n",
       "      <td>A woman is cutting onions.</td>\n",
       "      <td>A woman is cutting tofu.</td>\n",
       "      <td>0.3600</td>\n",
       "      <td>0.5017</td>\n",
       "      <td>0.5017</td>\n",
       "    </tr>\n",
       "    <tr>\n",
       "      <th>6</th>\n",
       "      <td>A man is riding an electric bicycle.</td>\n",
       "      <td>A man is riding a bicycle.</td>\n",
       "      <td>0.7000</td>\n",
       "      <td>0.8074</td>\n",
       "      <td>0.8074</td>\n",
       "    </tr>\n",
       "    <tr>\n",
       "      <th>7</th>\n",
       "      <td>A man is playing the drums.</td>\n",
       "      <td>A man is playing the guitar.</td>\n",
       "      <td>0.4400</td>\n",
       "      <td>0.4757</td>\n",
       "      <td>0.4757</td>\n",
       "    </tr>\n",
       "    <tr>\n",
       "      <th>8</th>\n",
       "      <td>A man is playing guitar.</td>\n",
       "      <td>A lady is playing the guitar.</td>\n",
       "      <td>0.4400</td>\n",
       "      <td>0.6182</td>\n",
       "      <td>0.6182</td>\n",
       "    </tr>\n",
       "    <tr>\n",
       "      <th>9</th>\n",
       "      <td>A man is playing a guitar.</td>\n",
       "      <td>A man is playing a trumpet.</td>\n",
       "      <td>0.3428</td>\n",
       "      <td>0.5096</td>\n",
       "      <td>0.5096</td>\n",
       "    </tr>\n",
       "  </tbody>\n",
       "</table>\n",
       "</div>"
      ],
      "text/plain": [
       "                                      sentence_1  \\\n",
       "0                    A girl is styling her hair.   \n",
       "1       A group of men play soccer on the beach.   \n",
       "2  One woman is measuring another woman's ankle.   \n",
       "3                A man is cutting up a cucumber.   \n",
       "4                       A man is playing a harp.   \n",
       "5                     A woman is cutting onions.   \n",
       "6           A man is riding an electric bicycle.   \n",
       "7                    A man is playing the drums.   \n",
       "8                       A man is playing guitar.   \n",
       "9                     A man is playing a guitar.   \n",
       "\n",
       "                                         sentence_2   score  avg_bert_score  \\\n",
       "0                      A girl is brushing her hair.  0.5000          0.8052   \n",
       "1  A group of boys are playing soccer on the beach.  0.7200          0.7886   \n",
       "2           A woman measures another woman's ankle.  1.0000          0.9465   \n",
       "3                      A man is slicing a cucumber.  0.8400          0.8820   \n",
       "4                      A man is playing a keyboard.  0.3000          0.3556   \n",
       "5                          A woman is cutting tofu.  0.3600          0.5017   \n",
       "6                        A man is riding a bicycle.  0.7000          0.8074   \n",
       "7                      A man is playing the guitar.  0.4400          0.4757   \n",
       "8                     A lady is playing the guitar.  0.4400          0.6182   \n",
       "9                       A man is playing a trumpet.  0.3428          0.5096   \n",
       "\n",
       "   mini_LM_score  \n",
       "0         0.8052  \n",
       "1         0.7886  \n",
       "2         0.9465  \n",
       "3         0.8820  \n",
       "4         0.3556  \n",
       "5         0.5017  \n",
       "6         0.8074  \n",
       "7         0.4757  \n",
       "8         0.6182  \n",
       "9         0.5096  "
      ]
     },
     "execution_count": 93,
     "metadata": {},
     "output_type": "execute_result"
    }
   ],
   "source": [
    "sts[\"avg_bert_score\"] = np.vectorize(sim_two_sentences) (sts[\"sentence_1\"], sts[\"sentence_2\"])\n",
    "sts.head(10)"
   ]
  },
  {
   "cell_type": "markdown",
   "id": "96119412",
   "metadata": {},
   "source": [
    "### SBERT and Dual Encoders"
   ]
  },
  {
   "cell_type": "code",
   "execution_count": 107,
   "id": "83b8d762",
   "metadata": {},
   "outputs": [
    {
     "name": "stderr",
     "output_type": "stream",
     "text": [
      "/Users/mchojna/Documents/GitHub/llm-playground/.venv/lib/python3.11/site-packages/torch/nn/modules/module.py:1762: FutureWarning: `encoder_attention_mask` is deprecated and will be removed in version 4.55.0 for `BertSdpaSelfAttention.forward`.\n",
      "  return forward_call(*args, **kwargs)\n"
     ]
    },
    {
     "data": {
      "text/plain": [
       "<Axes: title={'center': 'Semantic Textual Similairyt'}>"
      ]
     },
     "execution_count": 107,
     "metadata": {},
     "output_type": "execute_result"
    },
    {
     "data": {
      "image/png": "[encoded data removed]",
      "text/plain": [
       "<Figure size 640x480 with 2 Axes>"
      ]
     },
     "metadata": {},
     "output_type": "display_data"
    }
   ],
   "source": [
    "from sentence_transformers import SentenceTransformer\n",
    "\n",
    "model = SentenceTransformer(\"sentence-transformers/all-MiniLM-L6-v2\")\n",
    "\n",
    "embeddings = [\n",
    "    list(model.encode(t)) for t in messages\n",
    "]\n",
    "\n",
    "plot_similarity(messages, embeddings, 90)"
   ]
  },
  {
   "cell_type": "code",
   "execution_count": 89,
   "id": "4cabc56d",
   "metadata": {},
   "outputs": [],
   "source": [
    "def sim_two_sentences(s1, s2):\n",
    "    emb1 = list(model.encode(s1))\n",
    "    emb2 = list(model.encode(s2))\n",
    "    sim = cosine_similarity_matrix(np.vstack([emb1, emb2]))\n",
    "    return sim[0,1]"
   ]
  },
  {
   "cell_type": "code",
   "execution_count": 91,
   "id": "cf630663",
   "metadata": {},
   "outputs": [
    {
     "name": "stderr",
     "output_type": "stream",
     "text": [
      "/Users/mchojna/Documents/GitHub/llm-playground/.venv/lib/python3.11/site-packages/torch/nn/modules/module.py:1762: FutureWarning: `encoder_attention_mask` is deprecated and will be removed in version 4.55.0 for `BertSdpaSelfAttention.forward`.\n",
      "  return forward_call(*args, **kwargs)\n"
     ]
    },
    {
     "data": {
      "text/html": [
       "<div>\n",
       "<style scoped>\n",
       "    .dataframe tbody tr th:only-of-type {\n",
       "        vertical-align: middle;\n",
       "    }\n",
       "\n",
       "    .dataframe tbody tr th {\n",
       "        vertical-align: top;\n",
       "    }\n",
       "\n",
       "    .dataframe thead th {\n",
       "        text-align: right;\n",
       "    }\n",
       "</style>\n",
       "<table border=\"1\" class=\"dataframe\">\n",
       "  <thead>\n",
       "    <tr style=\"text-align: right;\">\n",
       "      <th></th>\n",
       "      <th>sentence_1</th>\n",
       "      <th>sentence_2</th>\n",
       "      <th>score</th>\n",
       "      <th>avg_bert_score</th>\n",
       "      <th>mini_LM_score</th>\n",
       "    </tr>\n",
       "  </thead>\n",
       "  <tbody>\n",
       "    <tr>\n",
       "      <th>0</th>\n",
       "      <td>A girl is styling her hair.</td>\n",
       "      <td>A girl is brushing her hair.</td>\n",
       "      <td>0.5000</td>\n",
       "      <td>0.9767</td>\n",
       "      <td>0.8052</td>\n",
       "    </tr>\n",
       "    <tr>\n",
       "      <th>1</th>\n",
       "      <td>A group of men play soccer on the beach.</td>\n",
       "      <td>A group of boys are playing soccer on the beach.</td>\n",
       "      <td>0.7200</td>\n",
       "      <td>0.9615</td>\n",
       "      <td>0.7886</td>\n",
       "    </tr>\n",
       "    <tr>\n",
       "      <th>2</th>\n",
       "      <td>One woman is measuring another woman's ankle.</td>\n",
       "      <td>A woman measures another woman's ankle.</td>\n",
       "      <td>1.0000</td>\n",
       "      <td>0.9191</td>\n",
       "      <td>0.9465</td>\n",
       "    </tr>\n",
       "    <tr>\n",
       "      <th>3</th>\n",
       "      <td>A man is cutting up a cucumber.</td>\n",
       "      <td>A man is slicing a cucumber.</td>\n",
       "      <td>0.8400</td>\n",
       "      <td>0.9763</td>\n",
       "      <td>0.8820</td>\n",
       "    </tr>\n",
       "    <tr>\n",
       "      <th>4</th>\n",
       "      <td>A man is playing a harp.</td>\n",
       "      <td>A man is playing a keyboard.</td>\n",
       "      <td>0.3000</td>\n",
       "      <td>0.9472</td>\n",
       "      <td>0.3556</td>\n",
       "    </tr>\n",
       "    <tr>\n",
       "      <th>5</th>\n",
       "      <td>A woman is cutting onions.</td>\n",
       "      <td>A woman is cutting tofu.</td>\n",
       "      <td>0.3600</td>\n",
       "      <td>0.8787</td>\n",
       "      <td>0.5017</td>\n",
       "    </tr>\n",
       "    <tr>\n",
       "      <th>6</th>\n",
       "      <td>A man is riding an electric bicycle.</td>\n",
       "      <td>A man is riding a bicycle.</td>\n",
       "      <td>0.7000</td>\n",
       "      <td>0.9793</td>\n",
       "      <td>0.8074</td>\n",
       "    </tr>\n",
       "    <tr>\n",
       "      <th>7</th>\n",
       "      <td>A man is playing the drums.</td>\n",
       "      <td>A man is playing the guitar.</td>\n",
       "      <td>0.4400</td>\n",
       "      <td>0.9730</td>\n",
       "      <td>0.4757</td>\n",
       "    </tr>\n",
       "    <tr>\n",
       "      <th>8</th>\n",
       "      <td>A man is playing guitar.</td>\n",
       "      <td>A lady is playing the guitar.</td>\n",
       "      <td>0.4400</td>\n",
       "      <td>0.9519</td>\n",
       "      <td>0.6182</td>\n",
       "    </tr>\n",
       "    <tr>\n",
       "      <th>9</th>\n",
       "      <td>A man is playing a guitar.</td>\n",
       "      <td>A man is playing a trumpet.</td>\n",
       "      <td>0.3428</td>\n",
       "      <td>0.9588</td>\n",
       "      <td>0.5096</td>\n",
       "    </tr>\n",
       "  </tbody>\n",
       "</table>\n",
       "</div>"
      ],
      "text/plain": [
       "                                      sentence_1  \\\n",
       "0                    A girl is styling her hair.   \n",
       "1       A group of men play soccer on the beach.   \n",
       "2  One woman is measuring another woman's ankle.   \n",
       "3                A man is cutting up a cucumber.   \n",
       "4                       A man is playing a harp.   \n",
       "5                     A woman is cutting onions.   \n",
       "6           A man is riding an electric bicycle.   \n",
       "7                    A man is playing the drums.   \n",
       "8                       A man is playing guitar.   \n",
       "9                     A man is playing a guitar.   \n",
       "\n",
       "                                         sentence_2   score  avg_bert_score  \\\n",
       "0                      A girl is brushing her hair.  0.5000          0.9767   \n",
       "1  A group of boys are playing soccer on the beach.  0.7200          0.9615   \n",
       "2           A woman measures another woman's ankle.  1.0000          0.9191   \n",
       "3                      A man is slicing a cucumber.  0.8400          0.9763   \n",
       "4                      A man is playing a keyboard.  0.3000          0.9472   \n",
       "5                          A woman is cutting tofu.  0.3600          0.8787   \n",
       "6                        A man is riding a bicycle.  0.7000          0.9793   \n",
       "7                      A man is playing the guitar.  0.4400          0.9730   \n",
       "8                     A lady is playing the guitar.  0.4400          0.9519   \n",
       "9                       A man is playing a trumpet.  0.3428          0.9588   \n",
       "\n",
       "   mini_LM_score  \n",
       "0         0.8052  \n",
       "1         0.7886  \n",
       "2         0.9465  \n",
       "3         0.8820  \n",
       "4         0.3556  \n",
       "5         0.5017  \n",
       "6         0.8074  \n",
       "7         0.4757  \n",
       "8         0.6182  \n",
       "9         0.5096  "
      ]
     },
     "execution_count": 91,
     "metadata": {},
     "output_type": "execute_result"
    }
   ],
   "source": [
    "sts['mini_LM_score'] = np.vectorize(sim_two_sentences)(sts['sentence_1'], sts['sentence_2'])\n",
    "sts.head(10)"
   ]
  },
  {
   "cell_type": "code",
   "execution_count": 95,
   "id": "e367e3db",
   "metadata": {},
   "outputs": [
    {
     "name": "stdout",
     "output_type": "stream",
     "text": [
      "Pearson correlation coefficient = 0.9303740673726042\n",
      "p-value = 1.4823857251916192e-22\n"
     ]
    }
   ],
   "source": [
    "import scipy\n",
    "\n",
    "pc = scipy.stats.pearsonr(sts['score'], sts['mini_LM_score'])\n",
    "print(f'Pearson correlation coefficient = {pc[0]}\\np-value = {pc[1]}')"
   ]
  },
  {
   "cell_type": "markdown",
   "id": "31955337",
   "metadata": {},
   "source": [
    "### CrossEntropyLoss 'trick'"
   ]
  },
  {
   "cell_type": "code",
   "execution_count": 96,
   "id": "e368ca1b",
   "metadata": {},
   "outputs": [],
   "source": [
    "df = pd.DataFrame(\n",
    "    [\n",
    "        [4.3, 1.2, 0.05, 1.07],\n",
    "        [0.18, 3.2, 0.09, 0.05],\n",
    "        [0.85, 0.27, 2.2, 1.03],\n",
    "        [0.23, 0.57, 0.12, 5.1]\n",
    "    ]\n",
    ")\n",
    "data = torch.tensor(df.values, dtype=torch.float32)"
   ]
  },
  {
   "cell_type": "code",
   "execution_count": 97,
   "id": "8c988b63",
   "metadata": {},
   "outputs": [],
   "source": [
    "def contrastive_loss(data):\n",
    "    target = torch.arange(data.size(0))\n",
    "    loss = torch.nn.CrossEntropyLoss()(data, target)\n",
    "    return loss"
   ]
  },
  {
   "cell_type": "code",
   "execution_count": 98,
   "id": "3967a42b",
   "metadata": {},
   "outputs": [
    {
     "data": {
      "text/plain": [
       "tensor([[0.9100, 0.0410, 0.0130, 0.0360],\n",
       "        [0.0429, 0.8801, 0.0393, 0.0377],\n",
       "        [0.1512, 0.0846, 0.5832, 0.1810],\n",
       "        [0.0075, 0.0105, 0.0067, 0.9753]])"
      ]
     },
     "execution_count": 98,
     "metadata": {},
     "output_type": "execute_result"
    }
   ],
   "source": [
    "torch.nn.Softmax(dim=1)(data)"
   ]
  },
  {
   "cell_type": "code",
   "execution_count": 99,
   "id": "46a0a27c",
   "metadata": {},
   "outputs": [
    {
     "data": {
      "text/plain": [
       "tensor([1.0000, 1.0000, 1.0000, 1.0000])"
      ]
     },
     "execution_count": 99,
     "metadata": {},
     "output_type": "execute_result"
    }
   ],
   "source": [
    "torch.nn.Softmax(dim=1)(data).sum(dim=1)"
   ]
  },
  {
   "cell_type": "code",
   "execution_count": 100,
   "id": "69dba885",
   "metadata": {},
   "outputs": [],
   "source": [
    "N = data.size(0)\n",
    "non_diag_mask = ~torch.eye(N, N, dtype=bool)"
   ]
  },
  {
   "cell_type": "code",
   "execution_count": 101,
   "id": "6d0854ab",
   "metadata": {},
   "outputs": [
    {
     "name": "stdout",
     "output_type": "stream",
     "text": [
      "tensor([[4.3000, 1.2000, 0.0500, 1.0700],\n",
      "        [0.1800, 3.2000, 0.0900, 0.0500],\n",
      "        [0.8500, 0.2700, 2.2000, 1.0300],\n",
      "        [0.2300, 0.5700, 0.1200, 5.1000]])\n",
      "Loss: 0.19657588005065918\n",
      "tensor([[4.8000, 1.1800, 0.0300, 1.0500],\n",
      "        [0.1600, 3.7000, 0.0700, 0.0300],\n",
      "        [0.8300, 0.2500, 2.7000, 1.0100],\n",
      "        [0.2100, 0.5500, 0.1000, 5.6000]])\n",
      "Loss: 0.1260208636522293\n",
      "tensor([[5.3000, 1.1600, 0.0100, 1.0300],\n",
      "        [0.1400, 4.2000, 0.0500, 0.0100],\n",
      "        [0.8100, 0.2300, 3.2000, 0.9900],\n",
      "        [0.1900, 0.5300, 0.0800, 6.1000]])\n",
      "Loss: 0.07888656109571457\n"
     ]
    }
   ],
   "source": [
    "for inx in range(3):\n",
    "    data = torch.tensor(df.values, dtype=torch.float32)\n",
    "    data[range(N), range(N)] += inx*0.5\n",
    "    data[non_diag_mask] -= inx*0.02\n",
    "    print(data)\n",
    "    print(f\"Loss: {contrastive_loss(data)}\")"
   ]
  },
  {
   "cell_type": "markdown",
   "id": "4d2219ef",
   "metadata": {},
   "source": [
    "### Encoder"
   ]
  },
  {
   "cell_type": "code",
   "execution_count": 103,
   "id": "5fe6b1e8",
   "metadata": {},
   "outputs": [],
   "source": [
    "class Encoder(torch.nn.Module):\n",
    "    def __init__(self, vocab_size, embed_dim, output_embed_dim) -> None:\n",
    "        super().__init__()\n",
    "        \n",
    "        self.embedding_layer = torch.nn.Embedding(vocab_size, embed_dim)\n",
    "        self.encoder = torch.nn.TransformerEncoder(\n",
    "            torch.nn.TransformerEncoderLayer(embed_dim, nhead=8, batch_first=True),\n",
    "            num_layers=3,\n",
    "            norm=torch.nn.LayerNorm([embed_dim]),\n",
    "            enable_nested_tensor=False,\n",
    "        )\n",
    "        self.projection = torch.nn.Linear(embed_dim, output_embed_dim)\n",
    "        \n",
    "    def forward(self, tokenizer_output):\n",
    "        x = self.embedding_layer(tokenizer_output[\"input_ids\"])\n",
    "        x = self.encoder(\n",
    "            x,\n",
    "            src_key_padding_mask=tokenizer_output['attention_mask'].logical_not(),\n",
    "        )\n",
    "        cls_embed = x[:, 0, :]\n",
    "        return self.projection(cls_embed)"
   ]
  },
  {
   "cell_type": "code",
   "execution_count": 106,
   "id": "3ec06bb8",
   "metadata": {},
   "outputs": [],
   "source": [
    "from transformers import AutoTokenizer\n",
    "\n",
    "\n",
    "def train_loop(dataset):\n",
    "    embed_size=512\n",
    "    output_embed_size=128\n",
    "    max_seq_len=64,\n",
    "    batch_size=32\n",
    "    \n",
    "    tokenizer = AutoTokenizer.from_pretrained(\"bert-base-uncased\")\n",
    "    question_encoder = Encoder(\n",
    "        tokenizer.vocab_size,\n",
    "        embed_size,\n",
    "        output_embed_size\n",
    "    )\n",
    "    answer_encoder = Encoder(\n",
    "        tokenizer.vocab_size,\n",
    "        embed_size,\n",
    "        output_embed_size,\n",
    "    )\n",
    "    \n",
    "    dataloader = torch.utils.data.DataLoader(\n",
    "        dataset,\n",
    "        batch_size=batch_size,\n",
    "        shuffle=True,\n",
    "    )\n",
    "    \n",
    "    optimizer = torch.optim.Adam(\n",
    "        list(question_encoder.parameters()) + list(answer_encoder.parameters()),\n",
    "        lr=1e-5,   \n",
    "    )\n",
    "    loss_fn = torch.nn.CrossEntropyLoss()\n",
    "    \n",
    "    running_loss = []\n",
    "    \n",
    "    for _, data_batch in enumerate(dataloader):\n",
    "        question, answer = data_batch\n",
    "        \n",
    "        question_tok = tokenizer(question, padding=True, truncat=True, return_tensor=\"pt\", max_length=max_seq_len)\n",
    "        answer_tok = tokenizer(answer, padding=True, truncat=True, return_tensor=\"pt\", max_length=max_seq_len)\n",
    "        \n",
    "        question_embed = question_encoder(question_tok)\n",
    "        answer_embed = answer_encoder(answer_tok)\n",
    "        \n",
    "        similarity_scores = question_embed @ answer_embed.T\n",
    "        target = torch.arange(question_embed.shape[0], dtype=torch.long)\n",
    "        loss = loss_fn(similarity_scores, target)\n",
    "        running_loss += [loss.item()]\n",
    "        \n",
    "        optimizer.zero_grad()\n",
    "        loss.backward()\n",
    "        optimizer.step()\n",
    "        \n",
    "    return question_encoder, answer_encoder"
   ]
  },
  {
   "cell_type": "code",
   "execution_count": 128,
   "id": "ef212347",
   "metadata": {},
   "outputs": [],
   "source": [
    "def train(dataset, num_epochs=10):\n",
    "    embed_size=512\n",
    "    output_embed_size=128\n",
    "    max_seq_len=64\n",
    "    batch_size=32\n",
    "    \n",
    "    n_iters = len(dataset) // batch_size + 1\n",
    "    \n",
    "    tokenizer = AutoTokenizer.from_pretrained(\"bert-base-uncased\")\n",
    "    question_encoder = Encoder(\n",
    "        tokenizer.vocab_size,\n",
    "        embed_size,\n",
    "        output_embed_size\n",
    "    )\n",
    "    answer_encoder = Encoder(\n",
    "        tokenizer.vocab_size,\n",
    "        embed_size,\n",
    "        output_embed_size,\n",
    "    )\n",
    "    \n",
    "    dataloader = torch.utils.data.DataLoader(\n",
    "        dataset,\n",
    "        batch_size=batch_size,\n",
    "        shuffle=True,\n",
    "    )\n",
    "    \n",
    "    optimizer = torch.optim.Adam(\n",
    "        list(question_encoder.parameters()) + list(answer_encoder.parameters()),\n",
    "        lr=1e-5,   \n",
    "    )\n",
    "    loss_fn = torch.nn.CrossEntropyLoss()    \n",
    "    \n",
    "    for epoch in range(num_epochs):\n",
    "        running_loss = []\n",
    "        \n",
    "        for idx, data_batch in enumerate(dataloader):\n",
    "            question, answer = data_batch\n",
    "                \n",
    "            question_tok = tokenizer(question, padding=True, truncation=True, return_tensors='pt', max_length=max_seq_len)\n",
    "            answer_tok = tokenizer(answer, padding=True, truncation=True, return_tensors='pt', max_length=max_seq_len)\n",
    "            \n",
    "            if inx == 0 and epoch == 0:\n",
    "                print(question_tok['input_ids'].shape, answer_tok['input_ids'].shape)\n",
    "                \n",
    "            question_embed = question_encoder(question_tok)\n",
    "            answer_embed = answer_encoder(answer_tok)\n",
    "            \n",
    "            if inx == 0 and epoch == 0:\n",
    "                print(question_embed.shape, answer_embed.shape)\n",
    "                \n",
    "            similarity_scores = question_embed @ answer_embed.T\n",
    "            \n",
    "            if inx == 0 and epoch == 0:\n",
    "                print(similarity_scores.shape)\n",
    "            \n",
    "            target = torch.arange(question_embed.shape[0], dtype=torch.long)\n",
    "            loss = loss_fn(similarity_scores, target)\n",
    "            running_loss += [loss.item()]\n",
    "            \n",
    "            if idx == n_iters-1:\n",
    "                print(f\"Epoch: {epoch} | Loss: {np.mean(running_loss)}\")\n",
    "                \n",
    "            optimizer.zero_grad()\n",
    "            loss.backward()\n",
    "            optimizer.step()\n",
    "    \n",
    "    return question_encoder, answer_encoder"
   ]
  },
  {
   "cell_type": "code",
   "execution_count": 129,
   "id": "ac095208",
   "metadata": {},
   "outputs": [],
   "source": [
    "class MyDataset(torch.utils.data.Dataset):\n",
    "    def __init__(self, datapath):\n",
    "        self.data = pd.read_csv(datapath, sep=\"\\t\", nrows=300)\n",
    "        \n",
    "    def __len__(self):\n",
    "        return len(self.data)\n",
    "\n",
    "    def __getitem__(self, idx):\n",
    "        return self.data.iloc[idx][\"questions\"], self.data.iloc[idx][\"answers\"]"
   ]
  },
  {
   "cell_type": "code",
   "execution_count": 130,
   "id": "92650ba5",
   "metadata": {},
   "outputs": [
    {
     "data": {
      "text/html": [
       "<div>\n",
       "<style scoped>\n",
       "    .dataframe tbody tr th:only-of-type {\n",
       "        vertical-align: middle;\n",
       "    }\n",
       "\n",
       "    .dataframe tbody tr th {\n",
       "        vertical-align: top;\n",
       "    }\n",
       "\n",
       "    .dataframe thead th {\n",
       "        text-align: right;\n",
       "    }\n",
       "</style>\n",
       "<table border=\"1\" class=\"dataframe\">\n",
       "  <thead>\n",
       "    <tr style=\"text-align: right;\">\n",
       "      <th></th>\n",
       "      <th>questions</th>\n",
       "      <th>answers</th>\n",
       "    </tr>\n",
       "  </thead>\n",
       "  <tbody>\n",
       "    <tr>\n",
       "      <th>0</th>\n",
       "      <td>who played bubba in the tv series in the heat ...</td>\n",
       "      <td>Carlos Alan Autry Jr. (also known for a period...</td>\n",
       "    </tr>\n",
       "    <tr>\n",
       "      <th>1</th>\n",
       "      <td>where did the 2017 tour de france start</td>\n",
       "      <td>The 3,540 km (2,200 mi)-long race commenced wi...</td>\n",
       "    </tr>\n",
       "    <tr>\n",
       "      <th>2</th>\n",
       "      <td>who is the chess champion of the world</td>\n",
       "      <td>Current world champion Magnus Carlsen won the ...</td>\n",
       "    </tr>\n",
       "    <tr>\n",
       "      <th>3</th>\n",
       "      <td>who scored the most hat tricks in football</td>\n",
       "      <td>Cristiano Ronaldo and Messi have scored three ...</td>\n",
       "    </tr>\n",
       "    <tr>\n",
       "      <th>4</th>\n",
       "      <td>what do you need to be an ontario scholar</td>\n",
       "      <td>Ontario Scholars are high school graduates in ...</td>\n",
       "    </tr>\n",
       "  </tbody>\n",
       "</table>\n",
       "</div>"
      ],
      "text/plain": [
       "                                           questions  \\\n",
       "0  who played bubba in the tv series in the heat ...   \n",
       "1            where did the 2017 tour de france start   \n",
       "2             who is the chess champion of the world   \n",
       "3         who scored the most hat tricks in football   \n",
       "4          what do you need to be an ontario scholar   \n",
       "\n",
       "                                             answers  \n",
       "0  Carlos Alan Autry Jr. (also known for a period...  \n",
       "1  The 3,540 km (2,200 mi)-long race commenced wi...  \n",
       "2  Current world champion Magnus Carlsen won the ...  \n",
       "3  Cristiano Ronaldo and Messi have scored three ...  \n",
       "4  Ontario Scholars are high school graduates in ...  "
      ]
     },
     "execution_count": 130,
     "metadata": {},
     "output_type": "execute_result"
    }
   ],
   "source": [
    "dataset = MyDataset('../data/nq_sample.tsv')\n",
    "dataset.data.head(5)"
   ]
  },
  {
   "cell_type": "code",
   "execution_count": 131,
   "id": "80df76f2",
   "metadata": {},
   "outputs": [
    {
     "name": "stdout",
     "output_type": "stream",
     "text": [
      "Epoch: 0 | Loss: 3.7521995306015015\n",
      "Epoch: 1 | Loss: 3.5617685317993164\n",
      "Epoch: 2 | Loss: 3.4834721803665163\n",
      "Epoch: 3 | Loss: 3.4111010313034056\n",
      "Epoch: 4 | Loss: 3.336611104011536\n"
     ]
    }
   ],
   "source": [
    "qe, ae = train(dataset, num_epochs=5)"
   ]
  },
  {
   "cell_type": "code",
   "execution_count": 132,
   "id": "c69a4163",
   "metadata": {},
   "outputs": [
    {
     "name": "stdout",
     "output_type": "stream",
     "text": [
      "{'input_ids': tensor([[  101,  2054,  2003,  1996, 13747,  3137,  1999,  1996,  2088,  1029,\n",
      "           102]]), 'token_type_ids': tensor([[0, 0, 0, 0, 0, 0, 0, 0, 0, 0, 0]]), 'attention_mask': tensor([[1, 1, 1, 1, 1, 1, 1, 1, 1, 1, 1]])}\n",
      "tensor([ 0.0617, -0.1858, -0.2735, -0.0327, -0.5816], grad_fn=<SliceBackward0>)\n"
     ]
    }
   ],
   "source": [
    "question = 'What is the tallest mountain in the world?'\n",
    "tokenizer = AutoTokenizer.from_pretrained('bert-base-uncased')\n",
    "question_tok = tokenizer(question, padding=True, truncation=True, return_tensors='pt', max_length=64)\n",
    "question_emb = qe(question_tok)[0]\n",
    "print(question_tok)\n",
    "print(question_emb[:5])"
   ]
  },
  {
   "cell_type": "code",
   "execution_count": 133,
   "id": "181d0f88",
   "metadata": {},
   "outputs": [
    {
     "name": "stdout",
     "output_type": "stream",
     "text": [
      "[tensor([[  101,  2054,  2003,  1996, 13747,  3137,  1999,  1996,  2088,  1029,\n",
      "           102]]), tensor([[  101,  1996, 13747,  3137,  1999,  1996,  2088,  2003,  4057, 23914,\n",
      "          1012,   102]]), tensor([[ 101, 2040, 2003, 6221, 9457, 1029,  102]])]\n",
      "tensor([-0.4067, -0.1775,  0.8671,  0.3045, -0.0126], grad_fn=<SliceBackward0>)\n",
      "tensor([-0.5658, -0.4834,  0.6619,  0.3524, -0.0825], grad_fn=<SliceBackward0>)\n",
      "tensor([-0.6433, -0.2561,  0.5859,  0.5086,  0.1842], grad_fn=<SliceBackward0>)\n"
     ]
    }
   ],
   "source": [
    "answers = [\n",
    "    \"What is the tallest mountain in the world?\",\n",
    "    \"The tallest mountain in the world is Mount Everest.\",\n",
    "    \"Who is donald duck?\"\n",
    "]\n",
    "answer_tok = []\n",
    "answer_emb = []\n",
    "for answer in answers:\n",
    "    tok = tokenizer(answer, padding=True, truncation=True, return_tensors='pt', max_length=64)\n",
    "    answer_tok.append(tok['input_ids'])\n",
    "    emb = ae(tok)[0]\n",
    "    answer_emb.append(emb)\n",
    "\n",
    "print(answer_tok)\n",
    "print(answer_emb[0][:5])\n",
    "print(answer_emb[1][:5])\n",
    "print(answer_emb[2][:5])"
   ]
  },
  {
   "cell_type": "code",
   "execution_count": 134,
   "id": "23d3547d",
   "metadata": {},
   "outputs": [
    {
     "data": {
      "text/plain": [
       "tensor([-0.3355,  0.2495, -0.7672], grad_fn=<SqueezeBackward4>)"
      ]
     },
     "execution_count": 134,
     "metadata": {},
     "output_type": "execute_result"
    }
   ],
   "source": [
    "question_emb @ torch.stack(answer_emb).T"
   ]
  },
  {
   "cell_type": "markdown",
   "id": "26a9f0be",
   "metadata": {},
   "source": [
    "### Inference"
   ]
  },
  {
   "cell_type": "code",
   "execution_count": null,
   "id": "c8788e97",
   "metadata": {},
   "outputs": [],
   "source": []
  }
 ],
 "metadata": {
  "kernelspec": {
   "display_name": "llm-playground",
   "language": "python",
   "name": "python3"
  },
  "language_info": {
   "codemirror_mode": {
    "name": "ipython",
    "version": 3
   },
   "file_extension": ".py",
   "mimetype": "text/x-python",
   "name": "python",
   "nbconvert_exporter": "python",
   "pygments_lexer": "ipython3",
   "version": "3.11.13"
  }
 },
 "nbformat": 4,
 "nbformat_minor": 5
}
